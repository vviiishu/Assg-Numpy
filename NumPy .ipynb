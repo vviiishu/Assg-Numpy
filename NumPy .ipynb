{
 "cells": [
  {
   "cell_type": "code",
   "execution_count": 1,
   "id": "f871e8f0-1b1a-47da-8197-f848e43f74fb",
   "metadata": {},
   "outputs": [
    {
     "name": "stdout",
     "output_type": "stream",
     "text": [
      "[0 1 2 3 4 5]\n",
      "int64\n"
     ]
    }
   ],
   "source": [
    "import numpy as np\n",
    "\n",
    "arr = np.arange(6)\n",
    "print(arr)\n",
    "print(arr.dtype)\n"
   ]
  },
  {
   "cell_type": "code",
   "execution_count": 2,
   "id": "5f28e287-9e40-4673-acf1-a069900de8f5",
   "metadata": {},
   "outputs": [
    {
     "name": "stdout",
     "output_type": "stream",
     "text": [
      "True\n"
     ]
    }
   ],
   "source": [
    "arr1 = np.array([1.5, 2.6, 3.7])\n",
    "is_float64 = arr1.dtype == np.float64\n",
    "print(is_float64)\n"
   ]
  },
  {
   "cell_type": "code",
   "execution_count": 3,
   "id": "7a5e50bf-f582-465a-9aaa-d7a7839c9d86",
   "metadata": {},
   "outputs": [
    {
     "name": "stdout",
     "output_type": "stream",
     "text": [
      "[1.+2.j 3.-4.j 5.+6.j]\n",
      "complex128\n"
     ]
    }
   ],
   "source": [
    "arr2 = np.array([1+2j, 3-4j, 5+6j], dtype=np.complex128)\n",
    "print(arr2)\n",
    "print(arr2.dtype)"
   ]
  },
  {
   "cell_type": "code",
   "execution_count": 4,
   "id": "2e9f32fe-da40-418a-b1b2-df0aa11400bf",
   "metadata": {},
   "outputs": [
    {
     "name": "stdout",
     "output_type": "stream",
     "text": [
      "[1. 5. 7. 8.]\n",
      "float32\n"
     ]
    }
   ],
   "source": [
    "arr4=np.array([1,5,7,8])\n",
    "arr5 = arr4.astype(np.float32)\n",
    "print(arr5)\n",
    "print(arr5.dtype)"
   ]
  },
  {
   "cell_type": "code",
   "execution_count": 5,
   "id": "e4abe693-0942-4660-ab79-efc9dd1ca9c6",
   "metadata": {},
   "outputs": [
    {
     "name": "stdout",
     "output_type": "stream",
     "text": [
      "Original array with float64 data type:\n",
      "[ 0.12345679  1.23456789 12.3456789 ]\n",
      "\n",
      "Array after converting to float32:\n",
      "[ 0.12345679  1.2345679  12.345679  ]\n"
     ]
    }
   ],
   "source": [
    "arr_float64 = np.array([0.123456789, 1.23456789, 12.3456789], dtype=np.float64)\n",
    "\n",
    "arr_float32 = arr_float64.astype(np.float32)\n",
    "\n",
    "print(\"Original array with float64 data type:\")\n",
    "print(arr_float64)\n",
    "\n",
    "print(\"\\nArray after converting to float32:\")\n",
    "print(arr_float32)\n"
   ]
  },
  {
   "cell_type": "code",
   "execution_count": 6,
   "id": "b580d15d-c2a5-406f-b465-91ebff0843d7",
   "metadata": {},
   "outputs": [
    {
     "name": "stdout",
     "output_type": "stream",
     "text": [
      "((2, 5), 10, dtype('int64'))\n"
     ]
    }
   ],
   "source": [
    "def array_attributes(arr):\n",
    "    return arr.shape, arr.size, arr.dtype\n",
    "\n",
    "arr7 = np.arange(10).reshape(2, 5)\n",
    "print(array_attributes(arr7))\n"
   ]
  },
  {
   "cell_type": "code",
   "execution_count": 7,
   "id": "e768ddb9-2364-4abb-ba7a-a0ebae22f61a",
   "metadata": {},
   "outputs": [
    {
     "name": "stdout",
     "output_type": "stream",
     "text": [
      "2\n"
     ]
    }
   ],
   "source": [
    "def array_dimension(arr):\n",
    "    return arr.ndim\n",
    "\n",
    "arr8 = np.arange(10).reshape(2, 5)\n",
    "print(array_dimension(arr8))\n"
   ]
  },
  {
   "cell_type": "code",
   "execution_count": 8,
   "id": "bd9b4b2a-036d-49b6-a811-192ddd0edf45",
   "metadata": {},
   "outputs": [
    {
     "name": "stdout",
     "output_type": "stream",
     "text": [
      "(8, 80)\n"
     ]
    }
   ],
   "source": [
    "def item_size_info(arr):\n",
    "    return arr.itemsize, arr.nbytes\n",
    "\n",
    "arr9 = np.arange(10).reshape(2, 5)\n",
    "print(item_size_info(arr9))\n"
   ]
  },
  {
   "cell_type": "code",
   "execution_count": 9,
   "id": "72b4aca1-07db-4479-ad1b-1b53877ea544",
   "metadata": {},
   "outputs": [
    {
     "name": "stdout",
     "output_type": "stream",
     "text": [
      "Array:\n",
      "[[1 2 3]\n",
      " [4 5 6]]\n",
      "\n",
      "Strides of the array:\n",
      "(12, 4)\n"
     ]
    }
   ],
   "source": [
    "def array_strides(arr):\n",
    "    return arr.strides\n",
    "\n",
    "arr10 = np.array([[1, 2, 3], [4, 5, 6]], dtype=np.int32)\n",
    "print(\"Array:\")\n",
    "print(arr10)\n",
    "print(\"\\nStrides of the array:\")\n",
    "print(array_strides(arr10))\n"
   ]
  },
  {
   "cell_type": "markdown",
   "id": "482c26b3-c315-4710-801a-f9c0f9f2b473",
   "metadata": {},
   "source": [
    "Strides are a tuple of integers indicating the number of bytes to step in each dimension when traversing the array. The length of the strides tuple is equal to the number of dimensions in the array."
   ]
  },
  {
   "cell_type": "markdown",
   "id": "727a9196-2d4d-4e92-af02-dff684da4039",
   "metadata": {},
   "source": [
    "For example, consider a 2D array arr with shape (3, 4) and dtype np.int32. If the strides are (16, 4), it means that to move from one row to the next, you need to move 16 bytes (4 elements of int32, each occupying 4 bytes), and to move from one column to the next, you need to move 4 bytes (1 element of int32)."
   ]
  },
  {
   "cell_type": "code",
   "execution_count": 10,
   "id": "d6e3c1ef-2bb7-4211-af06-8a5449cc8b66",
   "metadata": {},
   "outputs": [
    {
     "name": "stdout",
     "output_type": "stream",
     "text": [
      "Array:\n",
      "[[1 2 3]\n",
      " [4 5 6]\n",
      " [7 8 9]]\n",
      "Shape and Strides: ((3, 3), (24, 8))\n"
     ]
    }
   ],
   "source": [
    "def shape_stride_relationship(arr):\n",
    "    return arr.shape, arr.strides\n",
    "\n",
    "arr11 = np.array([[1, 2, 3], [4, 5, 6], [7, 8, 9]])\n",
    "print(\"Array:\")\n",
    "print(arr11)\n",
    "print(\"Shape and Strides:\", shape_stride_relationship(arr11))\n"
   ]
  },
  {
   "cell_type": "code",
   "execution_count": 11,
   "id": "5643a109-030d-4215-844b-87178fa1dc8e",
   "metadata": {},
   "outputs": [
    {
     "name": "stdout",
     "output_type": "stream",
     "text": [
      "Zeros Array: [0. 0. 0. 0. 0.]\n"
     ]
    }
   ],
   "source": [
    "def create_zeros_array(n):\n",
    "    return np.zeros(n)\n",
    "\n",
    "n = 5\n",
    "print(\"Zeros Array:\", create_zeros_array(n))\n"
   ]
  },
  {
   "cell_type": "code",
   "execution_count": 12,
   "id": "867ffda3-509e-491d-b2da-fe67b8791479",
   "metadata": {},
   "outputs": [
    {
     "name": "stdout",
     "output_type": "stream",
     "text": [
      "Ones Matrix:\n",
      "[[1. 1. 1. 1.]\n",
      " [1. 1. 1. 1.]\n",
      " [1. 1. 1. 1.]]\n"
     ]
    }
   ],
   "source": [
    "def create_ones_matrix(rows, cols):\n",
    "    return np.ones((rows, cols))\n",
    "\n",
    "rows, cols = 3, 4\n",
    "print(\"Ones Matrix:\")\n",
    "print(create_ones_matrix(rows, cols))\n"
   ]
  },
  {
   "cell_type": "code",
   "execution_count": 13,
   "id": "feb0999a-1beb-434a-a32c-6578a4d2317d",
   "metadata": {},
   "outputs": [
    {
     "name": "stdout",
     "output_type": "stream",
     "text": [
      "Range Array: [1 3 5 7 9]\n"
     ]
    }
   ],
   "source": [
    "def generate_range_array(start, stop, step):\n",
    "    return np.arange(start, stop, step)\n",
    "\n",
    "start, stop, step = 1, 10, 2\n",
    "print(\"Range Array:\", generate_range_array(start, stop, step))\n"
   ]
  },
  {
   "cell_type": "code",
   "execution_count": 14,
   "id": "aa3f754f-7f4e-489d-b2c1-9e6b3bdea82e",
   "metadata": {},
   "outputs": [
    {
     "name": "stdout",
     "output_type": "stream",
     "text": [
      "Linear Space Array: [1.5 3.5 5.5 7.5 9.5]\n"
     ]
    }
   ],
   "source": [
    "def generate_linear_space(start, stop, num):\n",
    "    return np.linspace(start, stop, num)\n",
    "\n",
    "start, stop, num = 1.5, 9.5, 5\n",
    "print(\"Linear Space Array:\", generate_linear_space(start, stop, num))\n"
   ]
  },
  {
   "cell_type": "code",
   "execution_count": 15,
   "id": "67963fe1-3869-4c43-a15b-4ea359262cba",
   "metadata": {},
   "outputs": [
    {
     "name": "stdout",
     "output_type": "stream",
     "text": [
      "Identity Matrix:\n",
      "[[1. 0. 0.]\n",
      " [0. 1. 0.]\n",
      " [0. 0. 1.]]\n"
     ]
    }
   ],
   "source": [
    "def create_identity_matrix(n):\n",
    "    return np.eye(n)\n",
    "n = 3\n",
    "print(\"Identity Matrix:\")\n",
    "print(create_identity_matrix(n))\n"
   ]
  },
  {
   "cell_type": "code",
   "execution_count": 16,
   "id": "763be8a7-9656-4d87-a97d-def5cb5d624b",
   "metadata": {},
   "outputs": [
    {
     "name": "stdout",
     "output_type": "stream",
     "text": [
      "[1 2 3 4 5]\n"
     ]
    }
   ],
   "source": [
    "def list_to_numpy_array(py_list):\n",
    "    return np.array(py_list)\n",
    "python_list = [1, 2, 3, 4, 5]\n",
    "numpy_array = list_to_numpy_array(python_list)\n",
    "print(numpy_array)\n"
   ]
  },
  {
   "cell_type": "code",
   "execution_count": 17,
   "id": "1f612bf4-9f86-4831-b99c-678995a2d0eb",
   "metadata": {},
   "outputs": [
    {
     "name": "stdout",
     "output_type": "stream",
     "text": [
      "Original Array: [10  2  3  4  5]\n",
      "View Array: [10  2  3  4  5]\n"
     ]
    }
   ],
   "source": [
    "original_array = np.array([1, 2, 3, 4, 5])\n",
    "view_array = original_array.view()\n",
    "view_array[0] = 10\n",
    "print(\"Original Array:\", original_array)\n",
    "print(\"View Array:\", view_array)"
   ]
  },
  {
   "cell_type": "markdown",
   "id": "8dac5b2f-74b7-4637-aabc-a9d7b3fc476a",
   "metadata": {},
   "source": [
    " numpy.view creates a new array object (view_array) that shares the same data as the original array (original_array). Modifying the view array also affects the original array because they share the same data."
   ]
  },
  {
   "cell_type": "code",
   "execution_count": 18,
   "id": "5bc574a7-35fa-4ef8-a1ed-eb637f4e1570",
   "metadata": {},
   "outputs": [
    {
     "name": "stdout",
     "output_type": "stream",
     "text": [
      "Concatenated Array: [1 2 3 4 5 6]\n"
     ]
    }
   ],
   "source": [
    "def concatenate_arrays(arr1, arr2, axis=0):\n",
    "    return np.concatenate((arr1, arr2), axis=axis)\n",
    "arr1 = np.array([1, 2, 3])\n",
    "arr2 = np.array([4, 5, 6])\n",
    "concatenated_array = concatenate_arrays(arr1, arr2)\n",
    "print(\"Concatenated Array:\", concatenated_array)\n"
   ]
  },
  {
   "cell_type": "code",
   "execution_count": 19,
   "id": "c94e65e1-3cbd-4280-9f1a-6dad5180fee5",
   "metadata": {},
   "outputs": [
    {
     "name": "stdout",
     "output_type": "stream",
     "text": [
      "[[1 2 3]\n",
      " [4 5 6]\n",
      " [7 8 9]]\n"
     ]
    }
   ],
   "source": [
    "def stack_arrays_vertically(arrays):\n",
    "    return np.vstack(arrays)\n",
    "\n",
    "array1 = np.array([1, 2, 3])\n",
    "array2 = np.array([4, 5, 6])\n",
    "array3 = np.array([7, 8, 9])\n",
    "stacked_array = stack_arrays_vertically([array1, array2, array3])\n",
    "print(stacked_array)\n"
   ]
  },
  {
   "cell_type": "code",
   "execution_count": 20,
   "id": "ec906da5-059c-4cc5-8c44-6491568a3724",
   "metadata": {},
   "outputs": [
    {
     "name": "stdout",
     "output_type": "stream",
     "text": [
      "[1 3 5 7 9]\n"
     ]
    }
   ],
   "source": [
    "def create_integer_array(start, stop, step):\n",
    "    return np.arange(start, stop+1, step, dtype=int)\n",
    "\n",
    "integer_array = create_integer_array(1, 10, 2)\n",
    "print(integer_array)"
   ]
  },
  {
   "cell_type": "code",
   "execution_count": 21,
   "id": "94ac1721-aee9-43e2-bfcb-6dd04b010855",
   "metadata": {},
   "outputs": [
    {
     "name": "stdout",
     "output_type": "stream",
     "text": [
      "[0.         0.11111111 0.22222222 0.33333333 0.44444444 0.55555556\n",
      " 0.66666667 0.77777778 0.88888889 1.        ]\n"
     ]
    }
   ],
   "source": [
    "def equally_spaced_values():\n",
    "    return np.linspace(0, 1, 10)\n",
    "\n",
    "spaced_array = equally_spaced_values()\n",
    "print(spaced_array)\n"
   ]
  },
  {
   "cell_type": "code",
   "execution_count": 22,
   "id": "9b536086-a073-4b51-9054-aa326c7ebb5c",
   "metadata": {},
   "outputs": [
    {
     "name": "stdout",
     "output_type": "stream",
     "text": [
      "[   1.            5.62341325   31.6227766   177.827941   1000.        ]\n"
     ]
    }
   ],
   "source": [
    "def logarithmically_spaced_values():\n",
    "    return np.logspace(0, 3, 5)\n",
    "\n",
    "log_spaced_array = logarithmically_spaced_values()\n",
    "print(log_spaced_array)\n"
   ]
  },
  {
   "cell_type": "code",
   "execution_count": 23,
   "id": "e3665068-9786-4915-9b5d-d03d9584bc9c",
   "metadata": {},
   "outputs": [
    {
     "name": "stdout",
     "output_type": "stream",
     "text": [
      "    A   B   C\n",
      "0  45  48  65\n",
      "1  68  68  10\n",
      "2  84  22  37\n",
      "3  88  71  89\n",
      "4  89  13  59\n"
     ]
    }
   ],
   "source": [
    "import pandas as pd\n",
    "np.random.seed(0)\n",
    "data = np.random.randint(1, 101, size=(5, 3))\n",
    "df = pd.DataFrame(data, columns=['A', 'B', 'C'])\n",
    "print(df)\n"
   ]
  },
  {
   "cell_type": "code",
   "execution_count": 24,
   "id": "f3a794dd-95ad-4d91-a075-9514d8c16783",
   "metadata": {},
   "outputs": [
    {
     "name": "stdout",
     "output_type": "stream",
     "text": [
      "DataFrame before replacement:\n",
      "   A  B   C\n",
      "0  1  5  -9\n",
      "1 -2  6  10\n",
      "2  3 -7  11\n",
      "3 -4  8 -12\n",
      "\n",
      "DataFrame after replacing negatives with zeros in column 'B':\n",
      "   A  B   C\n",
      "0  1  5  -9\n",
      "1 -2  6  10\n",
      "2  3  0  11\n",
      "3 -4  8 -12\n"
     ]
    }
   ],
   "source": [
    "import pandas as pd\n",
    "import numpy as np\n",
    "\n",
    "def replace_negatives_with_zeros(dataframe, column):\n",
    "    dataframe[column] = np.where(dataframe[column] < 0, 0, dataframe[column])\n",
    "\n",
    "data = {'A': [1, -2, 3, -4],\n",
    "        'B': [5, 6, -7, 8],\n",
    "        'C': [-9, 10, 11, -12]}\n",
    "df1 = pd.DataFrame(data)\n",
    "print(\"DataFrame before replacement:\")\n",
    "print(df1)\n",
    "\n",
    "replace_negatives_with_zeros(df1, 'B')\n",
    "print(\"\\nDataFrame after replacing negatives with zeros in column 'B':\")\n",
    "print(df1)\n"
   ]
  },
  {
   "cell_type": "code",
   "execution_count": 25,
   "id": "2594acd4-e44e-43bc-8c3b-02106146e699",
   "metadata": {},
   "outputs": [
    {
     "name": "stdout",
     "output_type": "stream",
     "text": [
      "30\n"
     ]
    }
   ],
   "source": [
    "arr12 = np.array([10, 20, 30, 40, 50])\n",
    "print(arr12[2])\n",
    "\n"
   ]
  },
  {
   "cell_type": "code",
   "execution_count": 26,
   "id": "5117f1c7-6978-4643-8692-dbab4028b994",
   "metadata": {},
   "outputs": [
    {
     "name": "stdout",
     "output_type": "stream",
     "text": [
      "6\n"
     ]
    }
   ],
   "source": [
    "arr_2d = np.array([[1, 2, 3], [4, 5, 6], [7, 8, 9]])\n",
    "print(arr_2d[1, 2])"
   ]
  },
  {
   "cell_type": "code",
   "execution_count": 27,
   "id": "8fb70520-3e75-4772-bc47-a77b07dbe259",
   "metadata": {},
   "outputs": [
    {
     "name": "stdout",
     "output_type": "stream",
     "text": [
      "[ 8 10  7]\n"
     ]
    }
   ],
   "source": [
    "arr13 = np.array([3, 8, 2, 10, 5, 7])\n",
    "greater_than_5 = arr13[arr13 > 5]\n",
    "print(greater_than_5)\n"
   ]
  },
  {
   "cell_type": "code",
   "execution_count": 28,
   "id": "bc6ee937-1ff2-47bf-9418-994a4e39ad7a",
   "metadata": {},
   "outputs": [
    {
     "name": "stdout",
     "output_type": "stream",
     "text": [
      "[3 4 5 6]\n"
     ]
    }
   ],
   "source": [
    "arr14 = np.array([1, 2, 3, 4, 5, 6, 7, 8, 9])\n",
    "sliced_array = arr14[2:6]\n",
    "print(sliced_array)"
   ]
  },
  {
   "cell_type": "code",
   "execution_count": 29,
   "id": "e53a28ed-dcec-4be3-89b5-f43e86bf416c",
   "metadata": {},
   "outputs": [
    {
     "name": "stdout",
     "output_type": "stream",
     "text": [
      "[[2 3]\n",
      " [5 6]]\n"
     ]
    }
   ],
   "source": [
    "arr15 = np.array([[1, 2, 3], [4, 5, 6], [7, 8, 9]])\n",
    "sub_array = arr15[0:2, 1:3]\n",
    "print(sub_array)"
   ]
  },
  {
   "cell_type": "code",
   "execution_count": 30,
   "id": "b8b46a84-68f4-45bd-af4b-b25806525113",
   "metadata": {},
   "outputs": [
    {
     "name": "stdout",
     "output_type": "stream",
     "text": [
      "[[1 3]\n",
      " [5 4]]\n"
     ]
    }
   ],
   "source": [
    "def extract_elements_2d(arr, indices):\n",
    "    return arr[np.arange(arr.shape[0])[:, None], indices]\n",
    "\n",
    "arr16 = np.array([[1, 2, 3], [4, 5, 6]])\n",
    "indices = np.array([[0, 2], [1, 0]])\n",
    "print(extract_elements_2d(arr16, indices))\n"
   ]
  },
  {
   "cell_type": "code",
   "execution_count": 31,
   "id": "4b24a77d-820b-4e08-8967-c72e55b48602",
   "metadata": {},
   "outputs": [
    {
     "name": "stdout",
     "output_type": "stream",
     "text": [
      "[4 5]\n"
     ]
    }
   ],
   "source": [
    "def filter_greater_than(arr, threshold):\n",
    "    return arr[arr > threshold]\n",
    "\n",
    "arr17 = np.array([1, 2, 3, 4, 5, 6])\n",
    "threshold = 3\n",
    "result = filter_greater_than(arr, threshold)\n",
    "print(result) "
   ]
  },
  {
   "cell_type": "code",
   "execution_count": 32,
   "id": "a90eb0dc-bde2-4d86-93f5-c22dbc3addee",
   "metadata": {},
   "outputs": [
    {
     "name": "stdout",
     "output_type": "stream",
     "text": [
      "[[[ 1  2  3]\n",
      "  [ 4  5  6]\n",
      "  [ 7  8  9]]\n",
      "\n",
      " [[10 11 12]\n",
      "  [13 14 15]\n",
      "  [16 17 18]]\n",
      "\n",
      " [[19 20 21]\n",
      "  [22 23 24]\n",
      "  [25 26 27]]] \n",
      "\n",
      "[ 6 11 25]\n"
     ]
    }
   ],
   "source": [
    "def extract_elements_3d(array_3d, indices_dim1, indices_dim2, indices_dim3):\n",
    "    \n",
    "    return array_3d[indices_dim1, indices_dim2, indices_dim3]\n",
    "\n",
    "\n",
    "array_3d = np.array([\n",
    "    [[1, 2, 3], [4, 5, 6], [7, 8, 9]],\n",
    "    [[10, 11, 12], [13, 14, 15], [16, 17, 18]],\n",
    "    [[19, 20, 21], [22, 23, 24], [25, 26, 27]]\n",
    "])\n",
    "\n",
    "indices_dim1 = np.array([0, 1, 2])\n",
    "indices_dim2 = np.array([1, 0, 2])\n",
    "indices_dim3 = np.array([2, 1, 0])\n",
    "\n",
    "result1 = extract_elements_3d(array_3d, indices_dim1, indices_dim2, indices_dim3)\n",
    "print(array_3d,\"\\n\")\n",
    "print(result1)  \n"
   ]
  },
  {
   "cell_type": "code",
   "execution_count": 33,
   "id": "f7560cf7-c1f1-4ed5-9fc4-c8aaf4e8f501",
   "metadata": {},
   "outputs": [
    {
     "name": "stdout",
     "output_type": "stream",
     "text": [
      "[4 6]\n"
     ]
    }
   ],
   "source": [
    "def satisfy_both_conditions(arr, condition1, condition2):\n",
    "    return arr[np.logical_and(condition1, condition2)]   #Compute the truth value of x1 AND x2 element-wise.\n",
    "\n",
    "arr19 = np.array([1, 2, 3, 4, 5, 6])\n",
    "condition1 = arr19 > 2\n",
    "condition2 = arr19 % 2 == 0\n",
    "result2 = satisfy_both_conditions(arr19, condition1, condition2)\n",
    "print(result2) "
   ]
  },
  {
   "cell_type": "code",
   "execution_count": 34,
   "id": "30656a13-4950-48f4-b180-ea0a883a4437",
   "metadata": {},
   "outputs": [
    {
     "name": "stdout",
     "output_type": "stream",
     "text": [
      "[[1 2 3]\n",
      " [4 5 6]] \n",
      "\n",
      "[2 6]\n"
     ]
    }
   ],
   "source": [
    "def extract_elements_2d(arr, row_indices, col_indices):\n",
    "    return arr[row_indices, col_indices]\n",
    "\n",
    "arr20 = np.array([[1, 2, 3], [4, 5, 6]])\n",
    "row_indices = np.array([0, 1])\n",
    "col_indices = np.array([1, 2])\n",
    "result3 = extract_elements_2d(arr20, row_indices, col_indices)\n",
    "print(arr20,\"\\n\")\n",
    "print(result3)  "
   ]
  },
  {
   "cell_type": "code",
   "execution_count": 35,
   "id": "81bd7ea4-7ea1-4402-97be-5ef7e12e1cdc",
   "metadata": {},
   "outputs": [
    {
     "name": "stdout",
     "output_type": "stream",
     "text": [
      "[ 5  6  7  8  9 10]\n"
     ]
    }
   ],
   "source": [
    "arr21 = np.random.randint(0, 10, size=(3, 3))\n",
    "result4 = arr + 5\n",
    "print(result4)"
   ]
  },
  {
   "cell_type": "code",
   "execution_count": 36,
   "id": "1eb9ce30-8919-4c3a-ab26-6f58c4bc1fbf",
   "metadata": {},
   "outputs": [
    {
     "name": "stdout",
     "output_type": "stream",
     "text": [
      "[[ 2  4  6  8]\n",
      " [15 18 21 24]\n",
      " [36 40 44 48]]\n"
     ]
    }
   ],
   "source": [
    "arr22 = np.array([[2, 3, 4]])\n",
    "arr23 = np.array([[1, 2, 3, 4],\n",
    "                 [5, 6, 7, 8],\n",
    "                 [9, 10, 11, 12]])\n",
    "\n",
    "result5 = arr22.T * arr23\n",
    "\n",
    "print(result5)\n"
   ]
  },
  {
   "cell_type": "code",
   "execution_count": 37,
   "id": "fc7e9465-7480-4c85-8da3-439da04ce553",
   "metadata": {},
   "outputs": [
    {
     "name": "stdout",
     "output_type": "stream",
     "text": [
      "[[ 3  4  5]\n",
      " [ 7  8  9]\n",
      " [11 12 13]\n",
      " [15 16 17]]\n"
     ]
    }
   ],
   "source": [
    "arr24 = np.array([[2, 3, 4, 5]])\n",
    "arr25 = np.array([[1, 2, 3],\n",
    "                 [4, 5, 6],\n",
    "                 [7, 8, 9],\n",
    "                 [10, 11, 12]])\n",
    "\n",
    "result6 = arr24.T + arr25\n",
    "\n",
    "print(result6)"
   ]
  },
  {
   "cell_type": "code",
   "execution_count": 38,
   "id": "21e6429c-821b-427d-9b31-1fe99ba443db",
   "metadata": {},
   "outputs": [
    {
     "name": "stdout",
     "output_type": "stream",
     "text": [
      "Result:\n",
      "[[[ 2  4  6]\n",
      "  [12 15 18]]\n",
      "\n",
      " [[ 4  8 12]\n",
      "  [20 25 30]]]\n"
     ]
    }
   ],
   "source": [
    "arr26 = np.array([[1, 2, 3], [4, 5, 6]])  \n",
    "arr27 = np.array([[2, 3], [4, 5]])        \n",
    "arr27_reshaped = arr27[:,:, np.newaxis] \n",
    "result7 = arr26 * arr27_reshaped\n",
    "\n",
    "print(\"Result:\")\n",
    "print(result7)"
   ]
  },
  {
   "cell_type": "markdown",
   "id": "75bc62bc-7260-4234-b9e9-bc623bf64e64",
   "metadata": {},
   "source": [
    "arr27[: , : , np.newaxis] reshapes arr27 to have an additional axis at the end, effectively changing its shape from (2, 2) to (2, 2, 1). This reshaping is done using NumPy's slicing notation. The np.newaxis is used to add a new axis."
   ]
  },
  {
   "cell_type": "code",
   "execution_count": 39,
   "id": "327b7345-52ff-4333-92bd-95ac370bfd39",
   "metadata": {},
   "outputs": [
    {
     "data": {
      "text/plain": [
       "array([2.5, 3.5, 4.5])"
      ]
     },
     "execution_count": 39,
     "metadata": {},
     "output_type": "execute_result"
    }
   ],
   "source": [
    "arr28 = np.array([[1, 2, 3], [4, 5, 6]])\n",
    "np.mean(arr28,axis=0)"
   ]
  },
  {
   "cell_type": "code",
   "execution_count": 40,
   "id": "e5116def-61dc-4dca-8f8c-486bc8e3d3d7",
   "metadata": {},
   "outputs": [
    {
     "name": "stdout",
     "output_type": "stream",
     "text": [
      "[[1 2 3]\n",
      " [4 5 6]]\n"
     ]
    },
    {
     "data": {
      "text/plain": [
       "array([3, 6])"
      ]
     },
     "execution_count": 40,
     "metadata": {},
     "output_type": "execute_result"
    }
   ],
   "source": [
    "arr29 = np.array([[1, 2, 3], [4, 5, 6]])\n",
    "print(arr29)\n",
    "np.max(arr29,axis=1)"
   ]
  },
  {
   "cell_type": "code",
   "execution_count": 41,
   "id": "5100c411-d2a3-41b6-b2f0-445e385362c3",
   "metadata": {},
   "outputs": [
    {
     "name": "stdout",
     "output_type": "stream",
     "text": [
      "[[1 2 3]\n",
      " [4 5 6]]\n",
      "Index of maximum value in each column:\n",
      "Column 0: Index 1\n",
      "Column 1: Index 1\n",
      "Column 2: Index 1\n"
     ]
    }
   ],
   "source": [
    "arr30 = np.array([[1, 2, 3], [4, 5, 6]])\n",
    "max_indices = np.argmax(arr30, axis=0)\n",
    "\n",
    "print(arr30)\n",
    "print(\"Index of maximum value in each column:\")\n",
    "for col, idx in enumerate(max_indices):\n",
    "    print(f\"Column {col}: Index {idx}\")"
   ]
  },
  {
   "cell_type": "code",
   "execution_count": 42,
   "id": "230ebb75-0e8c-4d4d-afa7-afa5cb257c7f",
   "metadata": {},
   "outputs": [
    {
     "name": "stdout",
     "output_type": "stream",
     "text": [
      "[[ 3  5]\n",
      " [ 9 11]]\n"
     ]
    }
   ],
   "source": [
    "def moving_sum_along_rows(arr, window_size):\n",
    "    \n",
    "    padded_arr = np.pad(arr, ((0, 0), (window_size - 1, 0)), mode='constant')\n",
    "    \n",
    "    cumsum = np.cumsum(padded_arr, axis=1)\n",
    "    \n",
    "    moving_sum = cumsum[:, window_size:] - cumsum[:, :-window_size]\n",
    "    return moving_sum\n",
    "\n",
    "arr31 = np.array([[1, 2, 3], [4, 5, 6]])\n",
    "window_size = 2\n",
    "moving_sum = moving_sum_along_rows(arr31, window_size)\n",
    "print(moving_sum)"
   ]
  },
  {
   "cell_type": "code",
   "execution_count": 43,
   "id": "25dcdcff-268e-48e3-9b5c-b95e101fbac2",
   "metadata": {},
   "outputs": [
    {
     "name": "stdout",
     "output_type": "stream",
     "text": [
      "[ True False False]\n"
     ]
    }
   ],
   "source": [
    "arr32 = np.array([[2, 4, 6], [4, 5, 7]])\n",
    "all_even_columns = np.all(arr32 % 2 == 0, axis=0)\n",
    "\n",
    "print(all_even_columns)"
   ]
  },
  {
   "cell_type": "code",
   "execution_count": 44,
   "id": "08ea3bd7-0f51-489d-b05a-8f51e496c4bf",
   "metadata": {},
   "outputs": [
    {
     "name": "stdout",
     "output_type": "stream",
     "text": [
      "[[1 2 3]\n",
      " [4 5 6]]\n"
     ]
    }
   ],
   "source": [
    "def reshape_array(arr, m, n):\n",
    "    reshaped_matrix = arr.reshape(m, n)\n",
    "    return reshaped_matrix\n",
    "\n",
    "original_array = np.array([1, 2, 3, 4, 5, 6])\n",
    "m = 2  \n",
    "n = 3  \n",
    "\n",
    "reshaped_matrix = reshape_array(original_array, m, n)\n",
    "print(reshaped_matrix)\n"
   ]
  },
  {
   "cell_type": "code",
   "execution_count": 45,
   "id": "e3a4dc6c-431d-41b2-a273-98593eeee943",
   "metadata": {},
   "outputs": [
    {
     "name": "stdout",
     "output_type": "stream",
     "text": [
      "[1 2 3 4 5 6]\n"
     ]
    }
   ],
   "source": [
    "def flatten_matrix(input_matrix):\n",
    "    flattened_array = input_matrix.flatten()\n",
    "    return flattened_array\n",
    "\n",
    "input_matrix = np.array([[1, 2, 3], [4, 5, 6]])\n",
    "flattened_array = flatten_matrix(input_matrix)\n",
    "print(flattened_array)\n"
   ]
  },
  {
   "cell_type": "code",
   "execution_count": 46,
   "id": "b0d84015-4c84-4e92-a589-44bbbd65de75",
   "metadata": {},
   "outputs": [
    {
     "name": "stdout",
     "output_type": "stream",
     "text": [
      "Concatenated along axis 0:\n",
      "[[1 2]\n",
      " [3 4]\n",
      " [5 6]\n",
      " [7 8]]\n",
      "\n",
      "Concatenated along axis 1:\n",
      "[[1 2 5 6]\n",
      " [3 4 7 8]]\n"
     ]
    }
   ],
   "source": [
    "def concatenate_arrays(array1, array2, axis=0):\n",
    "    concatenated_array = np.concatenate((array1, array2), axis=axis)\n",
    "    return concatenated_array\n",
    "\n",
    "array1 = np.array([[1, 2], [3, 4]])\n",
    "array2 = np.array([[5, 6], [7, 8]])\n",
    "\n",
    "concatenated_array_axis0 = concatenate_arrays(array1, array2, axis=0)\n",
    "print(\"Concatenated along axis 0:\")\n",
    "print(concatenated_array_axis0)\n",
    "\n",
    "concatenated_array_axis1 = concatenate_arrays(array1, array2, axis=1)\n",
    "print(\"\\nConcatenated along axis 1:\")\n",
    "print(concatenated_array_axis1)\n"
   ]
  },
  {
   "cell_type": "code",
   "execution_count": 47,
   "id": "b9e61f8f-d2b8-4c57-a07e-965d970ed7bb",
   "metadata": {},
   "outputs": [
    {
     "name": "stdout",
     "output_type": "stream",
     "text": [
      "[ 1 10 11  4  5]\n"
     ]
    }
   ],
   "source": [
    "def insert_and_delete_elements(original_array, indices_to_insert, values_to_insert, indices_to_delete):\n",
    "\n",
    "    for idx, val in zip(indices_to_insert, values_to_insert):\n",
    "        original_array = np.insert(original_array, idx, val)\n",
    "\n",
    "    \n",
    "    original_array = np.delete(original_array, indices_to_delete)\n",
    "\n",
    "    return original_array\n",
    "\n",
    "original_array = np.array([1, 2, 3, 4, 5])\n",
    "indices_to_insert = [2, 4]\n",
    "values_to_insert = [10, 11]\n",
    "indices_to_delete = [1, 3]\n",
    "\n",
    "result_array = insert_and_delete_elements(original_array, indices_to_insert, values_to_insert, indices_to_delete)\n",
    "print(result_array)\n"
   ]
  },
  {
   "cell_type": "code",
   "execution_count": 48,
   "id": "656fb06d-60ff-4fab-875f-6eff43785765",
   "metadata": {},
   "outputs": [
    {
     "name": "stdout",
     "output_type": "stream",
     "text": [
      "[[10]\n",
      " [21]\n",
      " [81]\n",
      " [70]\n",
      " [80]]\n",
      "[ 1  2  3  4  5  6  7  8  9 10] \n",
      "\n",
      "Element wise sum \n",
      "\n",
      "[[11 12 13 14 15 16 17 18 19 20]\n",
      " [22 23 24 25 26 27 28 29 30 31]\n",
      " [82 83 84 85 86 87 88 89 90 91]\n",
      " [71 72 73 74 75 76 77 78 79 80]\n",
      " [81 82 83 84 85 86 87 88 89 90]]\n"
     ]
    }
   ],
   "source": [
    "arr33 = np.random.randint(1, 100, size=(5,1))\n",
    "arr34 = np.arange(1, 11)\n",
    "\n",
    "result8 = arr33 + arr34\n",
    "print(arr33)\n",
    "print(arr34,\"\\n\")\n",
    "print(\"Element wise sum \\n\")\n",
    "print(result8)\n"
   ]
  },
  {
   "cell_type": "code",
   "execution_count": 49,
   "id": "1fe1bf9b-9c17-4b46-9df2-dc9df32fa1e9",
   "metadata": {},
   "outputs": [
    {
     "name": "stdout",
     "output_type": "stream",
     "text": [
      "[ 9  7  5  3  1 -1 -3 -5 -7 -9]\n"
     ]
    }
   ],
   "source": [
    "arr35 = np.arange(10, 0, -1)\n",
    "arr36 = np.arange(1, 11)\n",
    "\n",
    "result9 = arr35 - arr36\n",
    "print(result9)"
   ]
  },
  {
   "cell_type": "code",
   "execution_count": 50,
   "id": "cb1fdb34-5bef-4366-bff3-29300aae0444",
   "metadata": {},
   "outputs": [
    {
     "name": "stdout",
     "output_type": "stream",
     "text": [
      "[10 18 24 28 30 30 28 24 18 10]\n"
     ]
    }
   ],
   "source": [
    "arr37 = np.random.randint(1, 100, size=(5,))\n",
    "arr38 = np.arange(1, 6)\n",
    "\n",
    "result10 = arr35 * arr36\n",
    "print(result10)\n"
   ]
  },
  {
   "cell_type": "code",
   "execution_count": 51,
   "id": "93c1931b-afe5-470b-898a-b260aab8bd17",
   "metadata": {},
   "outputs": [
    {
     "name": "stdout",
     "output_type": "stream",
     "text": [
      "[2. 2. 2. 2. 2.]\n"
     ]
    }
   ],
   "source": [
    "arr39 = np.arange(2, 11, 2)\n",
    "arr40 = np.arange(1, 6)\n",
    "\n",
    "result11 = arr39 / arr40\n",
    "print(result11)\n"
   ]
  },
  {
   "cell_type": "code",
   "execution_count": 52,
   "id": "35165495-6dc9-440b-991e-cfe6adccd7e5",
   "metadata": {},
   "outputs": [
    {
     "name": "stdout",
     "output_type": "stream",
     "text": [
      "[1 2 3 4 5] \n",
      "\n",
      "[5 4 3 2 1] \n",
      "\n",
      "[ 1 16 27 16  5]\n"
     ]
    }
   ],
   "source": [
    "arr41 = np.arange(1, 6)\n",
    "arr42 = np.flip(arr41)\n",
    "\n",
    "result12 = np.power(arr41, arr42)\n",
    "print(arr41,\"\\n\")\n",
    "print(arr42,\"\\n\")\n",
    "print(result12)\n"
   ]
  },
  {
   "cell_type": "code",
   "execution_count": 53,
   "id": "47e6f5cd-9191-4473-a411-5fa4947b09c1",
   "metadata": {},
   "outputs": [
    {
     "name": "stdout",
     "output_type": "stream",
     "text": [
      "Total occurrences of 'hello' in the array: 3\n"
     ]
    }
   ],
   "source": [
    "def count_substring_occurrences(arr, substring):\n",
    "    \n",
    "    occurrences = [string.count(substring) for string in arr]\n",
    "    \n",
    "    \n",
    "    total_occurrences = sum(occurrences)\n",
    "    \n",
    "    return total_occurrences\n",
    "\n",
    "arr43 = np.array(['hello', 'world', 'hello', 'numpy', 'hello'])\n",
    "substring = 'hello'\n",
    "\n",
    "occurrences = count_substring_occurrences(arr43, substring)\n",
    "print(\"Total occurrences of '{}' in the array: {}\".format(substring, occurrences))\n"
   ]
  },
  {
   "cell_type": "code",
   "execution_count": 54,
   "id": "e619ce25-f9b4-44b4-af7d-505d88327e5e",
   "metadata": {},
   "outputs": [
    {
     "name": "stdout",
     "output_type": "stream",
     "text": [
      "Uppercase characters: ['H' 'W' 'OAI' 'GPT']\n"
     ]
    }
   ],
   "source": [
    "def extract_uppercase_chars(arr44):\n",
    "    \n",
    "    def extract_uppercase(string):\n",
    "        return ''.join(char for char in string if char.isupper())\n",
    "\n",
    "    \n",
    "    extract_uppercase_func = np.frompyfunc(extract_uppercase, 1, 1)\n",
    "    uppercase_array = extract_uppercase_func(arr44)\n",
    "\n",
    "    return uppercase_array\n",
    "\n",
    "arr44 = np.array(['Hello', 'World', 'OpenAI', 'GPT'])\n",
    "uppercase_chars = extract_uppercase_chars(arr44)\n",
    "print(\"Uppercase characters:\", uppercase_chars)\n"
   ]
  },
  {
   "cell_type": "code",
   "execution_count": 55,
   "id": "5266663e-5831-46e8-80e9-cf7cc57ec192",
   "metadata": {},
   "outputs": [
    {
     "name": "stdout",
     "output_type": "stream",
     "text": [
      "Original array: ['apple' 'banana' 'grape' 'pineapple']\n",
      "Array with replaced substrings: ['orange' 'banana' 'grape' 'pineorange']\n"
     ]
    }
   ],
   "source": [
    "def replace_substring(arr45, old_substring, new_substring):\n",
    "    \n",
    "    def replace_func(string):\n",
    "        return string.replace(old_substring, new_substring)\n",
    "\n",
    "    \n",
    "    replace_func = np.frompyfunc(replace_func, 1, 1)\n",
    "    replaced_array = replace_func(arr45)\n",
    "\n",
    "    return replaced_array\n",
    "\n",
    "\n",
    "arr45 = np.array(['apple', 'banana', 'grape', 'pineapple'])\n",
    "new_arr = replace_substring(arr45, 'apple', 'orange')\n",
    "print(\"Original array:\", arr45)\n",
    "print(\"Array with replaced substrings:\", new_arr)\n"
   ]
  },
  {
   "cell_type": "code",
   "execution_count": 56,
   "id": "6d5f4a9f-f9b4-41ca-bea8-9df9b7484545",
   "metadata": {},
   "outputs": [
    {
     "name": "stdout",
     "output_type": "stream",
     "text": [
      "Concatenated array: ['HelloOpen' 'WorldAI']\n"
     ]
    }
   ],
   "source": [
    "def concatenate_strings(arr46, arr47):\n",
    "    \n",
    "    concatenated_array = np.char.add(arr46, arr47)\n",
    "    \n",
    "    return concatenated_array\n",
    "\n",
    "arr46 = np.array(['Hello', 'World'])\n",
    "arr47 = np.array(['Open', 'AI'])\n",
    "\n",
    "result13 = concatenate_strings(arr46, arr47)\n",
    "print(\"Concatenated array:\", result13)\n"
   ]
  },
  {
   "cell_type": "code",
   "execution_count": 57,
   "id": "f23e7d7f-dcd0-4eaa-ab2e-1e44d1be1e78",
   "metadata": {},
   "outputs": [
    {
     "name": "stdout",
     "output_type": "stream",
     "text": [
      "Length of the longest string: 9\n"
     ]
    }
   ],
   "source": [
    "def longest_string_length(arr47):\n",
    "    \n",
    "    vectorized_len = np.vectorize(len)\n",
    "\n",
    "    \n",
    "    lengths = vectorized_len(arr47)\n",
    "\n",
    "    \n",
    "    max_length = np.max(lengths)\n",
    "\n",
    "    return max_length\n",
    "\n",
    "arr47 = np.array(['apple', 'banana', 'grape', 'pineapple'])\n",
    "longest_length = longest_string_length(arr47)\n",
    "print(\"Length of the longest string:\", longest_length)\n"
   ]
  },
  {
   "cell_type": "code",
   "execution_count": 58,
   "id": "774d35e3-a7fc-4120-b52b-d8d00306ef29",
   "metadata": {},
   "outputs": [
    {
     "name": "stdout",
     "output_type": "stream",
     "text": [
      "Mean: 529.37\n",
      "Median: 553.0\n",
      "Variance: 88216.6731\n",
      "Standard Deviation: 297.0129173958601\n"
     ]
    }
   ],
   "source": [
    "dataset = np.random.randint(1, 1001, size=100)\n",
    "\n",
    "mean = np.mean(dataset)\n",
    "median = np.median(dataset)\n",
    "variance = np.var(dataset)\n",
    "std_deviation = np.std(dataset)\n",
    "\n",
    "print(\"Mean:\", mean)\n",
    "print(\"Median:\", median)\n",
    "print(\"Variance:\", variance)\n",
    "print(\"Standard Deviation:\", std_deviation)\n"
   ]
  },
  {
   "cell_type": "code",
   "execution_count": 59,
   "id": "d0b9578c-989a-4bb5-8298-5ea565b5633d",
   "metadata": {},
   "outputs": [
    {
     "name": "stdout",
     "output_type": "stream",
     "text": [
      "25th percentile: 21.25\n",
      "75th percentile: 65.25\n"
     ]
    }
   ],
   "source": [
    "data = np.random.randint(1, 101, size=50)\n",
    "percentile_25 = np.percentile(data, 25)\n",
    "percentile_75 = np.percentile(data, 75)\n",
    "\n",
    "print(\"25th percentile:\", percentile_25)\n",
    "print(\"75th percentile:\", percentile_75)\n"
   ]
  },
  {
   "cell_type": "code",
   "execution_count": 60,
   "id": "c8d715f5-38ee-4616-8567-a3c94cabca13",
   "metadata": {},
   "outputs": [
    {
     "name": "stdout",
     "output_type": "stream",
     "text": [
      "Correlation Coefficient: -0.9999999999999999\n"
     ]
    }
   ],
   "source": [
    "array48 = np.array([1, 2, 3, 4, 5])\n",
    "array49 = np.array([5, 4, 3, 2, 1])\n",
    "\n",
    "correlation_coefficient = np.corrcoef(array48, array49)[0, 1]\n",
    "\n",
    "print(\"Correlation Coefficient:\", correlation_coefficient)\n"
   ]
  },
  {
   "cell_type": "code",
   "execution_count": 61,
   "id": "b3c4e3aa-dfe2-4dcd-9ab4-40b3177d79ff",
   "metadata": {},
   "outputs": [
    {
     "name": "stdout",
     "output_type": "stream",
     "text": [
      "Result of matrix multiplication:\n",
      "[[19 22]\n",
      " [43 50]]\n"
     ]
    }
   ],
   "source": [
    "matrix1 = np.array([[1, 2], [3, 4]])\n",
    "matrix2 = np.array([[5, 6], [7, 8]])\n",
    "\n",
    "result = np.dot(matrix1, matrix2)\n",
    "\n",
    "print(\"Result of matrix multiplication:\")\n",
    "print(result)\n"
   ]
  },
  {
   "cell_type": "code",
   "execution_count": 62,
   "id": "13eebd77-724a-4d7a-ad69-8c83bd908060",
   "metadata": {},
   "outputs": [
    {
     "name": "stdout",
     "output_type": "stream",
     "text": [
      "10th percentile: 147.20000000000002\n",
      "50th percentile (median): 536.5\n",
      "90th percentile: 899.0\n",
      "First quartile (25th percentile): 299.25\n",
      "Third quartile (75th percentile): 846.5\n"
     ]
    }
   ],
   "source": [
    "data1 = np.random.randint(10, 1001, size=50)\n",
    "\n",
    "percentile_10 = np.percentile(data1, 10)\n",
    "percentile_50 = np.percentile(data1, 50)\n",
    "percentile_90 = np.percentile(data1, 90)\n",
    "quartile_1 = np.percentile(data1, 25)\n",
    "quartile_3 = np.percentile(data1, 75)\n",
    "\n",
    "print(\"10th percentile:\", percentile_10)\n",
    "print(\"50th percentile (median):\", percentile_50)\n",
    "print(\"90th percentile:\", percentile_90)\n",
    "print(\"First quartile (25th percentile):\", quartile_1)\n",
    "print(\"Third quartile (75th percentile):\", quartile_3)\n"
   ]
  },
  {
   "cell_type": "code",
   "execution_count": 63,
   "id": "614d064c-5b8f-4ac5-84fd-b58311bb8d92",
   "metadata": {},
   "outputs": [
    {
     "name": "stdout",
     "output_type": "stream",
     "text": [
      "Index of element 30: [2]\n"
     ]
    }
   ],
   "source": [
    "arr50 = np.array([10, 20, 30, 40, 50])\n",
    "\n",
    "index = np.where(arr50 == 30)[0]\n",
    "\n",
    "print(\"Index of element 30:\", index)\n"
   ]
  },
  {
   "cell_type": "code",
   "execution_count": 64,
   "id": "b370c20c-c9ec-4feb-b605-7098ed85fb50",
   "metadata": {},
   "outputs": [
    {
     "name": "stdout",
     "output_type": "stream",
     "text": [
      "Original array: [25 80 42 19 41 55 80 12 39 94]\n",
      "Sorted array: [12 19 25 39 41 42 55 80 80 94]\n"
     ]
    }
   ],
   "source": [
    "arr51 = np.random.randint(1, 100, size=10)\n",
    "\n",
    "sorted_arr1 = np.sort(arr51)\n",
    "\n",
    "print(\"Original array:\", arr51)\n",
    "print(\"Sorted array:\", sorted_arr1)\n"
   ]
  },
  {
   "cell_type": "code",
   "execution_count": 65,
   "id": "a72f6e58-a65e-4a04-a91f-72dcfa1ca2ca",
   "metadata": {},
   "outputs": [
    {
     "name": "stdout",
     "output_type": "stream",
     "text": [
      "Filtered elements: [25 42 30]\n"
     ]
    }
   ],
   "source": [
    "arr52 = np.array([12, 25, 6, 42, 8, 30])\n",
    "\n",
    "filtered_arr = arr52[arr52 > 20]\n",
    "\n",
    "print(\"Filtered elements:\", filtered_arr)\n"
   ]
  },
  {
   "cell_type": "code",
   "execution_count": 66,
   "id": "acdd8d6e-bd71-41ab-a193-37626379b817",
   "metadata": {},
   "outputs": [
    {
     "name": "stdout",
     "output_type": "stream",
     "text": [
      "Filtered elements: [0 2 3 5]\n"
     ]
    }
   ],
   "source": [
    "arr53 = np.array([12, 25, 6, 42, 8, 30])\n",
    "\n",
    "filtered_arr1 = arr[arr53 % 3 == 0]\n",
    "\n",
    "print(\"Filtered elements:\", filtered_arr1)\n"
   ]
  },
  {
   "cell_type": "code",
   "execution_count": 67,
   "id": "45d1c3de-ebed-49f2-a7e0-3ee15d2a8984",
   "metadata": {},
   "outputs": [
    {
     "name": "stdout",
     "output_type": "stream",
     "text": [
      "Filtered elements: [25 30]\n"
     ]
    }
   ],
   "source": [
    "arr54 = np.array([12, 25, 6, 42, 8, 30])\n",
    "\n",
    "filtered_arr2 = arr54[(arr54 >= 20) & (arr54 <= 40)]\n",
    "\n",
    "print(\"Filtered elements:\", filtered_arr2)\n"
   ]
  },
  {
   "cell_type": "code",
   "execution_count": 68,
   "id": "d02df640-e854-475c-b1c4-0c63c0737033",
   "metadata": {},
   "outputs": [
    {
     "name": "stdout",
     "output_type": "stream",
     "text": [
      "Byte order of the given array is  =\n"
     ]
    }
   ],
   "source": [
    "arr55 = np.array([1, 2, 3])\n",
    "\n",
    "byte_order = arr55.dtype.byteorder\n",
    "\n",
    "print(\"Byte order of the given array is \", byte_order)\n"
   ]
  },
  {
   "cell_type": "code",
   "execution_count": 69,
   "id": "99a56540-dbe3-45ad-a35e-944a7dafb67c",
   "metadata": {},
   "outputs": [
    {
     "name": "stdout",
     "output_type": "stream",
     "text": [
      "Byte-swapped array: [16777216 33554432 50331648]\n"
     ]
    }
   ],
   "source": [
    "arr56 = np.array([1, 2, 3], dtype=np.int32)\n",
    "arr56.byteswap(True)\n",
    "print(\"Byte-swapped array:\", arr56)\n"
   ]
  },
  {
   "cell_type": "code",
   "execution_count": 70,
   "id": "3ff2747c-3fef-4cd4-8380-f297b45b4d77",
   "metadata": {},
   "outputs": [
    {
     "name": "stdout",
     "output_type": "stream",
     "text": [
      "Swapped byte order array: [16777216 33554432 50331648]\n"
     ]
    }
   ],
   "source": [
    "arr57 = np.array([1, 2, 3], dtype=np.int32)\n",
    "swapped_arr = arr57.newbyteorder()\n",
    "print(\"Swapped byte order array:\", swapped_arr)\n"
   ]
  },
  {
   "cell_type": "code",
   "execution_count": 71,
   "id": "994ad94b-d00c-403f-9230-2596fb7c96cc",
   "metadata": {},
   "outputs": [
    {
     "name": "stdout",
     "output_type": "stream",
     "text": [
      "Swapped byte order array: [                 0  72057594037927936 144115188075855872\n",
      " 216172782113783808 288230376151711744 360287970189639680]\n"
     ]
    }
   ],
   "source": [
    "arr58 = np.array([1, 2, 3], dtype=np.int32)\n",
    "swapped_arr4 = arr.newbyteorder('S')\n",
    "print(\"Swapped byte order array:\", swapped_arr4)\n"
   ]
  },
  {
   "cell_type": "code",
   "execution_count": 72,
   "id": "d64b6ee8-2bb8-48ec-b5f3-ce60eae217be",
   "metadata": {},
   "outputs": [
    {
     "name": "stdout",
     "output_type": "stream",
     "text": [
      "Byte order: =\n"
     ]
    }
   ],
   "source": [
    "arr59 = np.array([1, 2, 3], dtype=np.int32)\n",
    "byte_order4 = arr.dtype.byteorder\n",
    "print(\"Byte order:\", byte_order4)\n"
   ]
  },
  {
   "cell_type": "code",
   "execution_count": 73,
   "id": "ecf7a8ac-b7b8-449b-9986-4f70c4bcf520",
   "metadata": {},
   "outputs": [
    {
     "name": "stdout",
     "output_type": "stream",
     "text": [
      "Original array arr1: [ 1  2  3  4  5  6  7  8  9 10]\n",
      "Modified copy array copy_arr: [100   2   3]\n"
     ]
    }
   ],
   "source": [
    "arr60 = np.arange(1, 11)\n",
    "copy_arr5 = arr1.copy()\n",
    "copy_arr5[0] = 100\n",
    "print(\"Original array arr1:\", arr60)\n",
    "print(\"Modified copy array copy_arr:\", copy_arr5)\n"
   ]
  },
  {
   "cell_type": "code",
   "execution_count": 74,
   "id": "20713a97-ddf5-4b1f-b497-240c9f96d520",
   "metadata": {},
   "outputs": [
    {
     "name": "stdout",
     "output_type": "stream",
     "text": [
      "Original matrix:\n",
      " [[999  96  45]\n",
      " [ 89  25  68]\n",
      " [ 83   4  77]]\n",
      "Modified view_slice:\n",
      " [[999  96]\n",
      " [ 89  25]]\n"
     ]
    }
   ],
   "source": [
    "matrix4 = np.random.randint(1, 100, size=(3, 3))\n",
    "view_slice = matrix4[:2, :2]\n",
    "view_slice[0, 0] = 999\n",
    "print(\"Original matrix:\\n\", matrix4)\n",
    "print(\"Modified view_slice:\\n\", view_slice)\n"
   ]
  },
  {
   "cell_type": "code",
   "execution_count": 75,
   "id": "b4775472-5b59-4c47-b782-3fc9862aa24b",
   "metadata": {},
   "outputs": [
    {
     "name": "stdout",
     "output_type": "stream",
     "text": [
      "Original array_a:\n",
      " [[ 6  7  3]\n",
      " [ 9 10  6]\n",
      " [ 7  8  9]\n",
      " [10 11 12]]\n",
      "Modified view_b:\n",
      " [[ 6  7]\n",
      " [ 9 10]]\n"
     ]
    }
   ],
   "source": [
    "array_a = np.arange(1, 13).reshape(4, 3)\n",
    "view_b = array_a[:2, :2]\n",
    "view_b += 5\n",
    "print(\"Original array_a:\\n\", array_a)\n",
    "print(\"Modified view_b:\\n\", view_b)\n"
   ]
  },
  {
   "cell_type": "code",
   "execution_count": 76,
   "id": "63f38d86-e6ae-4731-9c8f-3d172929669c",
   "metadata": {},
   "outputs": [
    {
     "name": "stdout",
     "output_type": "stream",
     "text": [
      "Original orig_array:\n",
      " [[99  2  3  4]\n",
      " [ 5  6  7  8]]\n",
      "Modified reshaped_view:\n",
      " [[99  2]\n",
      " [ 3  4]\n",
      " [ 5  6]\n",
      " [ 7  8]]\n"
     ]
    }
   ],
   "source": [
    "orig_array5 = np.arange(1, 9).reshape(2, 4)\n",
    "reshaped_view4 = orig_array5.reshape(4, 2)\n",
    "reshaped_view4[0, 0] = 99\n",
    "print(\"Original orig_array:\\n\", orig_array5)\n",
    "print(\"Modified reshaped_view:\\n\", reshaped_view4)\n"
   ]
  },
  {
   "cell_type": "code",
   "execution_count": 78,
   "id": "7d2692c1-2689-4c9f-b82c-1efebf029b84",
   "metadata": {},
   "outputs": [
    {
     "name": "stdout",
     "output_type": "stream",
     "text": [
      "Original data:\n",
      " [[4 8 6 4]\n",
      " [5 6 4 4]\n",
      " [8 8 4 3]]\n",
      "Modified data_copy:\n",
      " [99  6  6  8  8]\n"
     ]
    }
   ],
   "source": [
    "data7 = np.random.randint(1, 10, size=(3, 4))\n",
    "\n",
    "data_copy10 = data7[data7 > 5].copy()\n",
    "\n",
    "data_copy10[0] = 99\n",
    "print(\"Original data:\\n\", data7)\n",
    "print(\"Modified data_copy:\\n\", data_copy10)\n"
   ]
  },
  {
   "cell_type": "code",
   "execution_count": null,
   "id": "bc8fe7bd-1628-465d-8263-dbe058e8fcf8",
   "metadata": {},
   "outputs": [],
   "source": [
    "A = np.array([[1, 2], [3, 4]])\n",
    "B = np.array([[5, 6], [7, 8]])\n",
    "\n",
    "addition_result = A + B\n",
    "subtraction_result = A - B\n",
    "\n",
    "print(\"Addition result:\\n\", addition_result)\n",
    "print(\"Subtraction result:\\n\", subtraction_result)\n"
   ]
  },
  {
   "cell_type": "code",
   "execution_count": null,
   "id": "905ad93b-566d-4868-9722-d031a1f6c077",
   "metadata": {},
   "outputs": [],
   "source": [
    "C = np.random.randint(1, 10, size=(3, 2))\n",
    "D = np.random.randint(1, 10, size=(2, 4))\n",
    "\n",
    "multiplication_result = np.dot(C, D)\n",
    "\n",
    "print(\"Multiplication result:\\n\", multiplication_result)\n"
   ]
  },
  {
   "cell_type": "code",
   "execution_count": null,
   "id": "b5c3424e-b9c1-4523-afb3-cdf9ea59ac87",
   "metadata": {},
   "outputs": [],
   "source": [
    "E = np.array([[1, 2, 3], [4, 5, 6]])\n",
    "transpose_E = E.T\n",
    "\n",
    "print(\"Original matrix E:\\n\", E)\n",
    "print(\"Transposed matrix E:\\n\", transpose_E)\n"
   ]
  },
  {
   "cell_type": "code",
   "execution_count": null,
   "id": "a5b6c99c-db18-421d-9ff3-467cae8b426f",
   "metadata": {},
   "outputs": [],
   "source": [
    "E = np.array([[1, 2, 3], [4, 5, 6]])\n",
    "transpose_E = E.T\n",
    "\n",
    "print(\"Original matrix E:\\n\", E)\n",
    "print(\"Transposed matrix E:\\n\", transpose_E)\n"
   ]
  },
  {
   "cell_type": "code",
   "execution_count": null,
   "id": "0c7d0a45-e197-4a24-a5ce-2229c4788f92",
   "metadata": {},
   "outputs": [],
   "source": [
    "G = np.array([[1, 2], [3, 4]])\n",
    "inverse_G = np.linalg.inv(G)\n",
    "\n",
    "print(\"Matrix G:\\n\", G)\n",
    "print(\"Inverse of G:\\n\", inverse_G)\n"
   ]
  }
 ],
 "metadata": {
  "kernelspec": {
   "display_name": "Python 3 (ipykernel)",
   "language": "python",
   "name": "python3"
  },
  "language_info": {
   "codemirror_mode": {
    "name": "ipython",
    "version": 3
   },
   "file_extension": ".py",
   "mimetype": "text/x-python",
   "name": "python",
   "nbconvert_exporter": "python",
   "pygments_lexer": "ipython3",
   "version": "3.10.8"
  }
 },
 "nbformat": 4,
 "nbformat_minor": 5
}
